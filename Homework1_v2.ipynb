{
 "metadata": {
  "name": "",
  "signature": "sha256:db04e4f2a8142aeff76580875e4783e1222658f46d654eaa459fac10c70ce81f"
 },
 "nbformat": 3,
 "nbformat_minor": 0,
 "worksheets": [
  {
   "cells": [
    {
     "cell_type": "markdown",
     "metadata": {},
     "source": [
      "                                 Homework1_v2.ipynb \u00e7\u00f6z\u00fcmleri"
     ]
    },
    {
     "cell_type": "heading",
     "level": 3,
     "metadata": {},
     "source": [
      "Soru:\n",
      "% ,//, ** i\u015fle\u00e7lerinin ne i\u015fe yarad\u0131\u011f\u0131n\u0131 tahmin ediniz. Her iki i\u015flemci i\u00e7in en az iki \u00f6rnek verip, k\u00fc\u00e7\u00fck bir a\u00e7\u0131klama yap\u0131n\u0131z. A\u00e7\u0131klamay\u0131 cevap k\u0131sm\u0131na yaz\u0131n\u0131z.\n",
      "\n",
      "\u00c7\u00f6z\u00fcmler:"
     ]
    },
    {
     "cell_type": "code",
     "collapsed": false,
     "input": [
      "8%3 # Tahmin: mod alma"
     ],
     "language": "python",
     "metadata": {},
     "outputs": [
      {
       "metadata": {},
       "output_type": "pyout",
       "prompt_number": 4,
       "text": [
        "2"
       ]
      }
     ],
     "prompt_number": 4
    },
    {
     "cell_type": "code",
     "collapsed": false,
     "input": [
      "9//3 # Tahmin: karek\u00f6k alma"
     ],
     "language": "python",
     "metadata": {},
     "outputs": [
      {
       "metadata": {},
       "output_type": "pyout",
       "prompt_number": 4,
       "text": [
        "3"
       ]
      }
     ],
     "prompt_number": 4
    },
    {
     "cell_type": "code",
     "collapsed": false,
     "input": [
      "5**3 # Tahmin: \u00fcs alma"
     ],
     "language": "python",
     "metadata": {},
     "outputs": [
      {
       "metadata": {},
       "output_type": "pyout",
       "prompt_number": 5,
       "text": [
        "125"
       ]
      }
     ],
     "prompt_number": 5
    },
    {
     "cell_type": "heading",
     "level": 3,
     "metadata": {},
     "source": [
      "Soru:\n",
      "A\u015fa\u011f\u0131daki i\u015flemleri sonu\u00e7lar\u0131n\u0131 tahmin ediniz ve kodu \u00e7al\u0131\u015ft\u0131rmak i\u00e7in diyez (#) i\u015faretini kald\u0131r\u0131p, Shift-Enter'a bas\u0131n\u0131z.\n",
      "\n",
      "\u00c7\u00f6z\u00fcmler:"
     ]
    },
    {
     "cell_type": "code",
     "collapsed": false,
     "input": [
      "3*2**2 # Tahmin: 12 "
     ],
     "language": "python",
     "metadata": {},
     "outputs": [
      {
       "metadata": {},
       "output_type": "pyout",
       "prompt_number": 6,
       "text": [
        "12"
       ]
      }
     ],
     "prompt_number": 6
    },
    {
     "cell_type": "code",
     "collapsed": false,
     "input": [
      "(3*2)**2 # Tahmin: 36"
     ],
     "language": "python",
     "metadata": {},
     "outputs": [
      {
       "metadata": {},
       "output_type": "pyout",
       "prompt_number": 7,
       "text": [
        "36"
       ]
      }
     ],
     "prompt_number": 7
    },
    {
     "cell_type": "code",
     "collapsed": false,
     "input": [
      "3*2**(2-1) # Tahmin: 6"
     ],
     "language": "python",
     "metadata": {},
     "outputs": [
      {
       "metadata": {},
       "output_type": "pyout",
       "prompt_number": 8,
       "text": [
        "6"
       ]
      }
     ],
     "prompt_number": 8
    },
    {
     "cell_type": "heading",
     "level": 3,
     "metadata": {},
     "source": [
      "\n",
      "Soru:\n",
      "y de\u011fi\u015fkenine bir say\u0131 atay\u0131n ve a\u015fa\u011f\u0131daki hesaplamalar\u0131 yap\u0131n.\n",
      "\n",
      "\u00c7\u00f6z\u00fcmler:"
     ]
    },
    {
     "cell_type": "code",
     "collapsed": false,
     "input": [
      "x=5\n",
      "y=4"
     ],
     "language": "python",
     "metadata": {},
     "outputs": [],
     "prompt_number": 8
    },
    {
     "cell_type": "code",
     "collapsed": false,
     "input": [
      "y+37"
     ],
     "language": "python",
     "metadata": {},
     "outputs": [
      {
       "metadata": {},
       "output_type": "pyout",
       "prompt_number": 6,
       "text": [
        "41"
       ]
      }
     ],
     "prompt_number": 6
    },
    {
     "cell_type": "code",
     "collapsed": false,
     "input": [
      "0.5*y + x"
     ],
     "language": "python",
     "metadata": {},
     "outputs": [
      {
       "metadata": {},
       "output_type": "pyout",
       "prompt_number": 9,
       "text": [
        "7.0"
       ]
      }
     ],
     "prompt_number": 9
    },
    {
     "cell_type": "heading",
     "level": 3,
     "metadata": {},
     "source": [
      "E\u011fer G[10]'u \u00e7a\u011f\u0131r\u0131rsan\u0131z nas\u0131l bir sonu\u00e7 al\u0131rs\u0131n\u0131z?"
     ]
    },
    {
     "cell_type": "code",
     "collapsed": false,
     "input": [
      "G=[0,1,2,3,4,5,6,7,8,9,]"
     ],
     "language": "python",
     "metadata": {},
     "outputs": [],
     "prompt_number": 10
    },
    {
     "cell_type": "code",
     "collapsed": false,
     "input": [
      "G[10] # Tahmin: hata verir"
     ],
     "language": "python",
     "metadata": {},
     "outputs": [
      {
       "ename": "IndexError",
       "evalue": "list index out of range",
       "output_type": "pyerr",
       "traceback": [
        "\u001b[1;31m---------------------------------------------------------------------------\u001b[0m\n\u001b[1;31mIndexError\u001b[0m                                Traceback (most recent call last)",
        "\u001b[1;32m<ipython-input-11-9ccf790f2a90>\u001b[0m in \u001b[0;36m<module>\u001b[1;34m()\u001b[0m\n\u001b[1;32m----> 1\u001b[1;33m \u001b[0mG\u001b[0m\u001b[1;33m[\u001b[0m\u001b[1;36m10\u001b[0m\u001b[1;33m]\u001b[0m\u001b[1;33m\u001b[0m\u001b[0m\n\u001b[0m",
        "\u001b[1;31mIndexError\u001b[0m: list index out of range"
       ]
      }
     ],
     "prompt_number": 11
    },
    {
     "cell_type": "code",
     "collapsed": false,
     "input": [],
     "language": "python",
     "metadata": {},
     "outputs": []
    }
   ],
   "metadata": {}
  }
 ]
}